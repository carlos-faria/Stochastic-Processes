{
 "cells": [
  {
   "cell_type": "markdown",
   "metadata": {},
   "source": [
    "# Papoulis"
   ]
  },
  {
   "cell_type": "markdown",
   "metadata": {},
   "source": [
    "    TODO"
   ]
  },
  {
   "cell_type": "code",
   "execution_count": 1,
   "metadata": {},
   "outputs": [],
   "source": [
    "import sys\n",
    "sys.path.append('../lib')\n",
    "\n",
    "import sympy\n",
    "import sympy.functions.elementary.exponential as symExp\n",
    "import numpy as np\n",
    "import matplotlib.pyplot as plt\n",
    "import visuals\n",
    "import auxlib"
   ]
  },
  {
   "cell_type": "code",
   "execution_count": 2,
   "metadata": {},
   "outputs": [],
   "source": [
    "c, t, U = sympy.symbols('c, t, U')"
   ]
  },
  {
   "cell_type": "code",
   "execution_count": 35,
   "metadata": {},
   "outputs": [
    {
     "data": {
      "text/latex": [
       "$\\displaystyle c e^{- c t}$"
      ],
      "text/plain": [
       "c*exp(-c*t)"
      ]
     },
     "execution_count": 35,
     "metadata": {},
     "output_type": "execute_result"
    }
   ],
   "source": [
    "f = c*symExp.exp(-c*t)\n",
    "f"
   ]
  },
  {
   "cell_type": "code",
   "execution_count": 36,
   "metadata": {},
   "outputs": [],
   "source": [
    "paramsToSub = {c:2}"
   ]
  },
  {
   "cell_type": "code",
   "execution_count": 37,
   "metadata": {},
   "outputs": [
    {
     "data": {
      "text/latex": [
       "$\\displaystyle 1$"
      ],
      "text/plain": [
       "1"
      ]
     },
     "execution_count": 37,
     "metadata": {},
     "output_type": "execute_result"
    }
   ],
   "source": [
    "auxlib.integrateFunc(f, t, bounds=[0, sympy.oo], paramsToSub=paramsToSub)"
   ]
  },
  {
   "cell_type": "code",
   "execution_count": 27,
   "metadata": {},
   "outputs": [
    {
     "data": {
      "text/latex": [
       "$\\displaystyle - e^{- 2 t}$"
      ],
      "text/plain": [
       "-exp(-2*t)"
      ]
     },
     "execution_count": 27,
     "metadata": {},
     "output_type": "execute_result"
    }
   ],
   "source": [
    "func_int = auxlib.integrateFunc(f, t, paramsToSub=paramsToSub, conds='piecewise') \n",
    "func_int - auxlib.get_constant()"
   ]
  },
  {
   "cell_type": "markdown",
   "metadata": {},
   "source": [
    "sympy.limit(q, t, sympy.oo)\n",
    "\n",
    "$\\infty$"
   ]
  },
  {
   "cell_type": "code",
   "execution_count": 28,
   "metadata": {},
   "outputs": [
    {
     "data": {
      "text/plain": [
       "<function _lambdifygenerated(t)>"
      ]
     },
     "execution_count": 28,
     "metadata": {},
     "output_type": "execute_result"
    }
   ],
   "source": [
    "from sympy.utilities.lambdify import lambdify\n",
    "func = lambdify(t, func_int - auxlib.get_constant(), 'scipy') # returns a numpy-ready function1\n",
    "func"
   ]
  },
  {
   "cell_type": "code",
   "execution_count": 29,
   "metadata": {},
   "outputs": [],
   "source": [
    "interval = np.linspace(-1, 5, num=1000)\n",
    "values = func(interval)"
   ]
  },
  {
   "cell_type": "markdown",
   "metadata": {},
   "source": [
    "def pdfInfo(interval, values, rng, xlim=None):\n",
    "    fig, ax = plt.subplots()\n",
    "    ax.plot(interval, values, 'k')\n",
    "    \n",
    "    if not np.isscalar(rng) and len(rng)==1:\n",
    "        rng = rng[0]\n",
    "    \n",
    "    if not np.isscalar(rng):\n",
    "        x_1 = np.argmax(interval>rng[0])\n",
    "        x_2 = np.argmax(interval>rng[1])\n",
    "        ax.fill_between(np.linspace(rng[0], rng[1], num=len(values[x_1:x_2])), values[x_1:x_2], color='k')\n",
    "    else:\n",
    "        x = np.argmax(interval>rng)\n",
    "        x_0 = interval[0]\n",
    "        ax.fill_between(np.linspace(x_0, rng, num=len(values[0:x])), values[0:x], color='k')\n",
    "        \n",
    "    ax.axhline(0, c='k', alpha=.5)\n",
    "    ax.axvline(0, c='k', alpha=.5)\n",
    "         \n",
    "    ax.yaxis.grid(b=True, which='minor', color='k', linestyle='--', alpha=.2, zorder=0) \n",
    "    ax.yaxis.grid(b=True, which='major', color='k', linestyle='--', alpha=.5, zorder=0) \n",
    "\n",
    "    ax.set_facecolor('xkcd:white')\n",
    "    ax.spines[\"top\"].set_visible(False)\n",
    "    ax.spines[\"right\"].set_visible(False)\n",
    "    ax.spines[\"left\"].set_visible(False)\n",
    "    ax.spines[\"bottom\"].set_visible(False)\n",
    "    \n",
    "    if xlim != None:\n",
    "         ax.set_xlim(xlim)"
   ]
  },
  {
   "cell_type": "code",
   "execution_count": 38,
   "metadata": {},
   "outputs": [
    {
     "data": {
      "image/png": "[encoded data removed]",
      "text/plain": [
       "<Figure size 432x288 with 1 Axes>"
      ]
     },
     "metadata": {
      "needs_background": "light"
     },
     "output_type": "display_data"
    }
   ],
   "source": [
    "visuals.plotPdf(interval, values, [-.5, 3], xlim=[-2, 7])"
   ]
  }
 ],
 "metadata": {
  "kernelspec": {
   "display_name": "Python 3",
   "language": "python",
   "name": "python3"
  },
  "language_info": {
   "codemirror_mode": {
    "name": "ipython",
    "version": 3
   },
   "file_extension": ".py",
   "mimetype": "text/x-python",
   "name": "python",
   "nbconvert_exporter": "python",
   "pygments_lexer": "ipython3",
   "version": "3.7.3"
  }
 },
 "nbformat": 4,
 "nbformat_minor": 2
}
