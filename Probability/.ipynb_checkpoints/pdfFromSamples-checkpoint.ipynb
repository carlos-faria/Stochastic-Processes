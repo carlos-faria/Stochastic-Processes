{
 "cells": [
  {
   "cell_type": "code",
   "execution_count": 5,
   "metadata": {},
   "outputs": [],
   "source": [
    "import sys\n",
    "sys.path.append('../lib')\n",
    "import numpy as np\n",
    "import seaborn as sns\n",
    "import pandas as pd\n",
    "import scipy.stats    \n",
    "import matplotlib.pyplot as plt\n",
    "import visuals"
   ]
  },
  {
   "cell_type": "code",
   "execution_count": 6,
   "metadata": {},
   "outputs": [],
   "source": [
    "N = 10000\n",
    "nBins = 20"
   ]
  },
  {
   "cell_type": "code",
   "execution_count": 198,
   "metadata": {},
   "outputs": [],
   "source": [
    "#x = np.random.normal(5, 4, N)\n",
    "#x = np.random.lognormal(1, .5, N)\n",
    "x = np.random.choice([1, -1], N) * np.random.normal(5, 3, N)"
   ]
  },
  {
   "cell_type": "code",
   "execution_count": 199,
   "metadata": {},
   "outputs": [
    {
     "data": {
      "text/plain": [
       "[<matplotlib.lines.Line2D at 0x14aadedefd0>]"
      ]
     },
     "execution_count": 199,
     "metadata": {},
     "output_type": "execute_result"
    },
    {
     "data": {
      "image/png": "[encoded data removed]",
      "text/plain": [
       "<Figure size 432x288 with 1 Axes>"
      ]
     },
     "metadata": {
      "needs_background": "light"
     },
     "output_type": "display_data"
    }
   ],
   "source": [
    "cnt, edges = np.histogram(x, bins=nBins, density=True)\n",
    "    \n",
    "fig, ax = plt.subplots()\n",
    "    \n",
    "ax.hist(x, bins=nBins, align='mid', color='blue', density=True)\n",
    "ax.set(ylabel='freq')\n",
    "hist_dist = scipy.stats.rv_histogram((cnt, edges))\n",
    "pdf = hist_dist.pdf(edges)\n",
    "\n",
    "n_mean = 1\n",
    "smoothed_pdf = np.zeros(pdf.size)\n",
    "for i in range(n_mean, smoothed_pdf.size - n_mean):\n",
    "    smoothed_pdf[i] = np.mean(pdf[i-n_mean:i+n_mean])  \n",
    "ax.plot(edges, smoothed_pdf, c='r')  "
   ]
  },
  {
   "cell_type": "code",
   "execution_count": 200,
   "metadata": {},
   "outputs": [],
   "source": [
    "probValues = pdf*h\n",
    "probValues[0] /= 2\n",
    "probValues[-1] /= 2\n",
    "\n",
    "#while np.sum(probValues) > 1.:\n",
    "#    probValues *= .99\n",
    "\n",
    "sum_probValues = np.sum(probValues)\n",
    "if sum_probValues < 1.:\n",
    "    probValues[1:-1] += (1. - sum_probValues)/(len(probValues)-2)"
   ]
  },
  {
   "cell_type": "code",
   "execution_count": 201,
   "metadata": {},
   "outputs": [],
   "source": [
    "from scipy import stats\n",
    "discrete_rv = stats.rv_discrete(values=(edges, probValues))"
   ]
  },
  {
   "cell_type": "code",
   "execution_count": 202,
   "metadata": {},
   "outputs": [],
   "source": [
    "def getSampleFromPdf(edges, probValues, h):\n",
    "    sample = np.random.choice(edges, p=probValues)\n",
    "    if sample < edges[1]:\n",
    "        uniformSample = np.random.uniform(edges[0], edges[0]+h/2.)\n",
    "    elif sample > edges[-2]:\n",
    "        uniformSample = np.random.uniform(edges[-1]-h/2., edges[-1])\n",
    "    else:\n",
    "        uniformSample = np.random.uniform(sample-h/2., sample+h/2.)\n",
    "    return uniformSample"
   ]
  },
  {
   "cell_type": "code",
   "execution_count": 203,
   "metadata": {},
   "outputs": [],
   "source": [
    "n_samples = 10000\n",
    "x_samples = [getSampleFromPdf(edges, probValues, h) for i in range(n_samples)]"
   ]
  },
  {
   "cell_type": "code",
   "execution_count": 204,
   "metadata": {},
   "outputs": [
    {
     "data": {
      "image/png": "[encoded data removed]",
      "text/plain": [
       "<Figure size 432x288 with 1 Axes>"
      ]
     },
     "metadata": {
      "needs_background": "light"
     },
     "output_type": "display_data"
    }
   ],
   "source": [
    "fig, ax = plt.subplots()\n",
    "\n",
    "_ = ax.hist(x_samples, alpha=.5, bins=20)\n",
    "_ = ax.hist(x, alpha=.5, bins=20, color='orange')"
   ]
  },
  {
   "cell_type": "markdown",
   "metadata": {},
   "source": [
    "https://scicomp.stackexchange.com/questions/1658/define-custom-probability-density-function-in-python"
   ]
  }
 ],
 "metadata": {
  "kernelspec": {
   "display_name": "Python 3",
   "language": "python",
   "name": "python3"
  },
  "language_info": {
   "codemirror_mode": {
    "name": "ipython",
    "version": 3
   },
   "file_extension": ".py",
   "mimetype": "text/x-python",
   "name": "python",
   "nbconvert_exporter": "python",
   "pygments_lexer": "ipython3",
   "version": "3.7.3"
  }
 },
 "nbformat": 4,
 "nbformat_minor": 2
}
